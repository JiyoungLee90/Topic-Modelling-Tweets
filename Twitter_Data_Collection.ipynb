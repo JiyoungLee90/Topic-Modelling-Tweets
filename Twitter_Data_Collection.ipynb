{
 "cells": [
  {
   "cell_type": "markdown",
   "id": "4f4eb4b7",
   "metadata": {},
   "source": [
    "# Data Collection Using Twitter API"
   ]
  },
  {
   "cell_type": "code",
   "execution_count": 1,
   "id": "a1681c79",
   "metadata": {},
   "outputs": [],
   "source": [
    "import os\n",
    "import tweepy as tw\n",
    "import pandas as pd"
   ]
  },
  {
   "cell_type": "code",
   "execution_count": 2,
   "id": "1b6d581b",
   "metadata": {},
   "outputs": [],
   "source": [
    "#Variables that contains the user credentials to access Twitter API\n",
    "consumer_key = 'consumer_key'\n",
    "consumer_secret = 'consumer_secret_key'\n",
    "access_token = 'acess_token'\n",
    "access_token_secret = 'acess_token_secret_key'"
   ]
  },
  {
   "cell_type": "code",
   "execution_count": 3,
   "id": "09633255",
   "metadata": {},
   "outputs": [],
   "source": [
    "# OAuth 1a(application-user) authentication\n",
    "auth = tw.OAuthHandler(consumer_key, consumer_secret)\n",
    "auth.set_access_token(access_token, access_token_secret)\n",
    "api = tw.API(auth, wait_on_rate_limit = True)"
   ]
  },
  {
   "cell_type": "markdown",
   "id": "54ac50ad",
   "metadata": {},
   "source": [
    "## Pulling tweets and user information "
   ]
  },
  {
   "cell_type": "code",
   "execution_count": 71,
   "id": "e02d66f1",
   "metadata": {},
   "outputs": [],
   "source": [
    "search_words = \"#climatechange\"\n",
    "max_tweets = 1000000"
   ]
  },
  {
   "cell_type": "code",
   "execution_count": 72,
   "id": "32091b3a",
   "metadata": {},
   "outputs": [],
   "source": [
    "# Query \n",
    "tweets = tw.Cursor(api.search,\n",
    "                  q = search_words,\n",
    "                  lang = \"en\",\n",
    "                  tweet_mode = 'extended').items(max_tweets)"
   ]
  },
  {
   "cell_type": "code",
   "execution_count": 73,
   "id": "49957f2e",
   "metadata": {},
   "outputs": [],
   "source": [
    "# Fields to retrieve\n",
    "tweet_list = [[tweet.user.id_str, tweet.user.screen_name,\n",
    "               tweet._json['retweeted_status']['full_text'] if 'retweeted_status' in tweet._json else tweet.full_text, \n",
    "              ] for tweet in tweets]"
   ]
  },
  {
   "cell_type": "code",
   "execution_count": 75,
   "id": "35642417",
   "metadata": {},
   "outputs": [],
   "source": [
    "# Store them into dataframe\n",
    "tweet_df = pd.DataFrame(tweet_list, columns = ['ID', 'Name', 'Tweet'])"
   ]
  },
  {
   "cell_type": "code",
   "execution_count": 76,
   "id": "32363aac",
   "metadata": {},
   "outputs": [
    {
     "data": {
      "text/html": [
       "<div>\n",
       "<style scoped>\n",
       "    .dataframe tbody tr th:only-of-type {\n",
       "        vertical-align: middle;\n",
       "    }\n",
       "\n",
       "    .dataframe tbody tr th {\n",
       "        vertical-align: top;\n",
       "    }\n",
       "\n",
       "    .dataframe thead th {\n",
       "        text-align: right;\n",
       "    }\n",
       "</style>\n",
       "<table border=\"1\" class=\"dataframe\">\n",
       "  <thead>\n",
       "    <tr style=\"text-align: right;\">\n",
       "      <th></th>\n",
       "      <th>ID</th>\n",
       "      <th>Name</th>\n",
       "      <th>Tweet</th>\n",
       "    </tr>\n",
       "  </thead>\n",
       "  <tbody>\n",
       "    <tr>\n",
       "      <th>0</th>\n",
       "      <td>18257804</td>\n",
       "      <td>stateless</td>\n",
       "      <td>we’re pretty lucky, all things considered, whe...</td>\n",
       "    </tr>\n",
       "    <tr>\n",
       "      <th>1</th>\n",
       "      <td>1246325069841723392</td>\n",
       "      <td>TsaiJilly</td>\n",
       "      <td>#UN75 survey found that respondents in all reg...</td>\n",
       "    </tr>\n",
       "    <tr>\n",
       "      <th>2</th>\n",
       "      <td>1248988647812222978</td>\n",
       "      <td>Beatric54184322</td>\n",
       "      <td>All hat, no policy #climatechange #insiders ht...</td>\n",
       "    </tr>\n",
       "    <tr>\n",
       "      <th>3</th>\n",
       "      <td>240072798</td>\n",
       "      <td>LugubriousLarry</td>\n",
       "      <td>Two great stories on #Maine this weekend: firs...</td>\n",
       "    </tr>\n",
       "    <tr>\n",
       "      <th>4</th>\n",
       "      <td>1124447266205503488</td>\n",
       "      <td>All435Reps</td>\n",
       "      <td>The evidence is right in front of us. Temperat...</td>\n",
       "    </tr>\n",
       "    <tr>\n",
       "      <th>...</th>\n",
       "      <td>...</td>\n",
       "      <td>...</td>\n",
       "      <td>...</td>\n",
       "    </tr>\n",
       "    <tr>\n",
       "      <th>67401</th>\n",
       "      <td>1329260903527718913</td>\n",
       "      <td>Jillian18277886</td>\n",
       "      <td>Once we get through #COVID, let's not forget w...</td>\n",
       "    </tr>\n",
       "    <tr>\n",
       "      <th>67402</th>\n",
       "      <td>19435213</td>\n",
       "      <td>wildweatherdan</td>\n",
       "      <td>At the end of the last Ice Age, people changed...</td>\n",
       "    </tr>\n",
       "    <tr>\n",
       "      <th>67403</th>\n",
       "      <td>1401488848635502592</td>\n",
       "      <td>AnonWatchers</td>\n",
       "      <td>Coral #reefs ,rainforest of the ocean\\n🐠\\n#cli...</td>\n",
       "    </tr>\n",
       "    <tr>\n",
       "      <th>67404</th>\n",
       "      <td>18027211</td>\n",
       "      <td>dennissweatt</td>\n",
       "      <td>What is #climatechange? \\n\\nWets are wetter, d...</td>\n",
       "    </tr>\n",
       "    <tr>\n",
       "      <th>67405</th>\n",
       "      <td>854746382254706688</td>\n",
       "      <td>350Deschutes</td>\n",
       "      <td>Dirty unethical #oil lobby is killing s with i...</td>\n",
       "    </tr>\n",
       "  </tbody>\n",
       "</table>\n",
       "<p>67406 rows × 3 columns</p>\n",
       "</div>"
      ],
      "text/plain": [
       "                        ID             Name  \\\n",
       "0                 18257804        stateless   \n",
       "1      1246325069841723392        TsaiJilly   \n",
       "2      1248988647812222978  Beatric54184322   \n",
       "3                240072798  LugubriousLarry   \n",
       "4      1124447266205503488       All435Reps   \n",
       "...                    ...              ...   \n",
       "67401  1329260903527718913  Jillian18277886   \n",
       "67402             19435213   wildweatherdan   \n",
       "67403  1401488848635502592     AnonWatchers   \n",
       "67404             18027211     dennissweatt   \n",
       "67405   854746382254706688     350Deschutes   \n",
       "\n",
       "                                                   Tweet  \n",
       "0      we’re pretty lucky, all things considered, whe...  \n",
       "1      #UN75 survey found that respondents in all reg...  \n",
       "2      All hat, no policy #climatechange #insiders ht...  \n",
       "3      Two great stories on #Maine this weekend: firs...  \n",
       "4      The evidence is right in front of us. Temperat...  \n",
       "...                                                  ...  \n",
       "67401  Once we get through #COVID, let's not forget w...  \n",
       "67402  At the end of the last Ice Age, people changed...  \n",
       "67403  Coral #reefs ,rainforest of the ocean\\n🐠\\n#cli...  \n",
       "67404  What is #climatechange? \\n\\nWets are wetter, d...  \n",
       "67405  Dirty unethical #oil lobby is killing s with i...  \n",
       "\n",
       "[67406 rows x 3 columns]"
      ]
     },
     "execution_count": 76,
     "metadata": {},
     "output_type": "execute_result"
    }
   ],
   "source": [
    "tweet_df"
   ]
  },
  {
   "cell_type": "code",
   "execution_count": 70,
   "id": "f20a7b27",
   "metadata": {},
   "outputs": [
    {
     "data": {
      "text/plain": [
       "'How does #energyefficiency tie into #climatechange, #climatejustice, &amp; #cleanenergy? COO @vumilio shares his thoughts. \\n\\nWatch the full @cantvchicago episode abt #EnergyEfficiency &amp; Summer Readiness: https://t.co/jB2LKPlcVo https://t.co/a3yVZT1npN'"
      ]
     },
     "execution_count": 70,
     "metadata": {},
     "output_type": "execute_result"
    }
   ],
   "source": [
    "tweet_df.Tweet[6]"
   ]
  },
  {
   "cell_type": "code",
   "execution_count": 77,
   "id": "0df30eec",
   "metadata": {},
   "outputs": [],
   "source": [
    "tweet_df.to_csv('Data/tweets_climate_change.csv', index = False)"
   ]
  },
  {
   "cell_type": "code",
   "execution_count": 78,
   "id": "fdda0b81",
   "metadata": {},
   "outputs": [
    {
     "data": {
      "text/html": [
       "<div>\n",
       "<style scoped>\n",
       "    .dataframe tbody tr th:only-of-type {\n",
       "        vertical-align: middle;\n",
       "    }\n",
       "\n",
       "    .dataframe tbody tr th {\n",
       "        vertical-align: top;\n",
       "    }\n",
       "\n",
       "    .dataframe thead th {\n",
       "        text-align: right;\n",
       "    }\n",
       "</style>\n",
       "<table border=\"1\" class=\"dataframe\">\n",
       "  <thead>\n",
       "    <tr style=\"text-align: right;\">\n",
       "      <th></th>\n",
       "      <th>ID</th>\n",
       "      <th>Name</th>\n",
       "      <th>Tweet</th>\n",
       "    </tr>\n",
       "  </thead>\n",
       "  <tbody>\n",
       "    <tr>\n",
       "      <th>9</th>\n",
       "      <td>1729193269</td>\n",
       "      <td>JFSebastian146</td>\n",
       "      <td>#climatechange #drought #water #farming #foodp...</td>\n",
       "    </tr>\n",
       "    <tr>\n",
       "      <th>18</th>\n",
       "      <td>1729193269</td>\n",
       "      <td>JFSebastian146</td>\n",
       "      <td>Please read, sign and share: #ClimateChange ne...</td>\n",
       "    </tr>\n",
       "    <tr>\n",
       "      <th>23</th>\n",
       "      <td>1729193269</td>\n",
       "      <td>JFSebastian146</td>\n",
       "      <td>Covers all the bases.... this is where we are ...</td>\n",
       "    </tr>\n",
       "    <tr>\n",
       "      <th>24</th>\n",
       "      <td>1729193269</td>\n",
       "      <td>JFSebastian146</td>\n",
       "      <td>30 minutes later and the buildings are gone. M...</td>\n",
       "    </tr>\n",
       "    <tr>\n",
       "      <th>28</th>\n",
       "      <td>1729193269</td>\n",
       "      <td>JFSebastian146</td>\n",
       "      <td>Another great starter pack for those wanting t...</td>\n",
       "    </tr>\n",
       "    <tr>\n",
       "      <th>...</th>\n",
       "      <td>...</td>\n",
       "      <td>...</td>\n",
       "      <td>...</td>\n",
       "    </tr>\n",
       "    <tr>\n",
       "      <th>67396</th>\n",
       "      <td>1293510025680478208</td>\n",
       "      <td>jane__eden</td>\n",
       "      <td>The peeps who think baby steps are the best wa...</td>\n",
       "    </tr>\n",
       "    <tr>\n",
       "      <th>67397</th>\n",
       "      <td>1293510025680478208</td>\n",
       "      <td>jane__eden</td>\n",
       "      <td>This breaks my heart! 💔Share this with everyon...</td>\n",
       "    </tr>\n",
       "    <tr>\n",
       "      <th>67398</th>\n",
       "      <td>244268112</td>\n",
       "      <td>Flyspinner</td>\n",
       "      <td>This breaks my heart! 💔Share this with everyon...</td>\n",
       "    </tr>\n",
       "    <tr>\n",
       "      <th>67400</th>\n",
       "      <td>707688664084647937</td>\n",
       "      <td>semodu_pr</td>\n",
       "      <td>If the #sea level rises, the #WaddenSea will d...</td>\n",
       "    </tr>\n",
       "    <tr>\n",
       "      <th>67404</th>\n",
       "      <td>18027211</td>\n",
       "      <td>dennissweatt</td>\n",
       "      <td>What is #climatechange? \\n\\nWets are wetter, d...</td>\n",
       "    </tr>\n",
       "  </tbody>\n",
       "</table>\n",
       "<p>34111 rows × 3 columns</p>\n",
       "</div>"
      ],
      "text/plain": [
       "                        ID            Name  \\\n",
       "9               1729193269  JFSebastian146   \n",
       "18              1729193269  JFSebastian146   \n",
       "23              1729193269  JFSebastian146   \n",
       "24              1729193269  JFSebastian146   \n",
       "28              1729193269  JFSebastian146   \n",
       "...                    ...             ...   \n",
       "67396  1293510025680478208      jane__eden   \n",
       "67397  1293510025680478208      jane__eden   \n",
       "67398            244268112      Flyspinner   \n",
       "67400   707688664084647937       semodu_pr   \n",
       "67404             18027211    dennissweatt   \n",
       "\n",
       "                                                   Tweet  \n",
       "9      #climatechange #drought #water #farming #foodp...  \n",
       "18     Please read, sign and share: #ClimateChange ne...  \n",
       "23     Covers all the bases.... this is where we are ...  \n",
       "24     30 minutes later and the buildings are gone. M...  \n",
       "28     Another great starter pack for those wanting t...  \n",
       "...                                                  ...  \n",
       "67396  The peeps who think baby steps are the best wa...  \n",
       "67397  This breaks my heart! 💔Share this with everyon...  \n",
       "67398  This breaks my heart! 💔Share this with everyon...  \n",
       "67400  If the #sea level rises, the #WaddenSea will d...  \n",
       "67404  What is #climatechange? \\n\\nWets are wetter, d...  \n",
       "\n",
       "[34111 rows x 3 columns]"
      ]
     },
     "execution_count": 78,
     "metadata": {},
     "output_type": "execute_result"
    }
   ],
   "source": [
    "# Finding active users\n",
    "tweet_df[tweet_df.duplicated(subset = 'ID')]"
   ]
  },
  {
   "cell_type": "markdown",
   "id": "b25fdc27",
   "metadata": {},
   "source": [
    "### For More User Information "
   ]
  },
  {
   "cell_type": "code",
   "execution_count": 20,
   "id": "2cce23f5",
   "metadata": {},
   "outputs": [],
   "source": [
    "# Truncated tweets\n",
    "## Fields to retrieve\n",
    "tweet_lst = [[tweet.user.id_str, tweet.user.screen_name, \n",
    "              tweet.user.location, tweet.user.verified, \n",
    "              tweet.user.followers_count,tweet.user.friends_count,\n",
    "              tweet.user.statuses_count, tweet.user.created_at,\n",
    "              tweet.full_text] for tweet in tweets]\n",
    "\n",
    "## Store them into dataframe\n",
    "tweet_df = pd.DataFrame(tweet_lst, \n",
    "                        columns = ['ID', 'Name', 'Location',\n",
    "                                   'Verified','Followers', 'Friends',\n",
    "                                  'Total_tweets','Created_at', 'Text'])"
   ]
  }
 ],
 "metadata": {
  "hide_input": false,
  "kernelspec": {
   "display_name": "Python 3 (ipykernel)",
   "language": "python",
   "name": "python3"
  },
  "language_info": {
   "codemirror_mode": {
    "name": "ipython",
    "version": 3
   },
   "file_extension": ".py",
   "mimetype": "text/x-python",
   "name": "python",
   "nbconvert_exporter": "python",
   "pygments_lexer": "ipython3",
   "version": "3.8.8"
  },
  "varInspector": {
   "cols": {
    "lenName": 16,
    "lenType": 16,
    "lenVar": 40
   },
   "kernels_config": {
    "python": {
     "delete_cmd_postfix": "",
     "delete_cmd_prefix": "del ",
     "library": "var_list.py",
     "varRefreshCmd": "print(var_dic_list())"
    },
    "r": {
     "delete_cmd_postfix": ") ",
     "delete_cmd_prefix": "rm(",
     "library": "var_list.r",
     "varRefreshCmd": "cat(var_dic_list()) "
    }
   },
   "types_to_exclude": [
    "module",
    "function",
    "builtin_function_or_method",
    "instance",
    "_Feature"
   ],
   "window_display": false
  }
 },
 "nbformat": 4,
 "nbformat_minor": 5
}
